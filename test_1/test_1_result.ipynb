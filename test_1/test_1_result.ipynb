{
 "cells": [
  {
   "cell_type": "code",
   "execution_count": 2,
   "id": "0c825b59-b2b4-4050-b077-58a73a69897c",
   "metadata": {},
   "outputs": [],
   "source": [
    "#Задача 1\n",
    "\n",
    "import pandas as pd\n",
    "from functools import reduce"
   ]
  },
  {
   "cell_type": "code",
   "execution_count": 4,
   "id": "04c55bc5-73d8-40d1-83a9-9db87391781c",
   "metadata": {},
   "outputs": [
    {
     "name": "stdin",
     "output_type": "stream",
     "text": [
      " 6 4 2\n"
     ]
    }
   ],
   "source": [
    "N,K,t = [int(i) for i in input().split()]"
   ]
  },
  {
   "cell_type": "code",
   "execution_count": 5,
   "id": "17b80750-30c9-4707-a86c-72e3aa75dd32",
   "metadata": {},
   "outputs": [],
   "source": [
    "l_1 = []"
   ]
  },
  {
   "cell_type": "code",
   "execution_count": 7,
   "id": "b682ee3d-8f62-4c4c-9adb-1f12e1af0351",
   "metadata": {},
   "outputs": [
    {
     "name": "stdin",
     "output_type": "stream",
     "text": [
      " 1\n",
      " 2\n",
      " 1\n",
      " 2\n",
      " 2\n",
      " 2\n"
     ]
    }
   ],
   "source": [
    "for i in range(N):\n",
    "  i = int(input())\n",
    "  l_1.append(i)"
   ]
  },
  {
   "cell_type": "code",
   "execution_count": 8,
   "id": "560c5b9e-eff1-424e-9244-5e7563e31b73",
   "metadata": {},
   "outputs": [],
   "source": [
    "def nearest(lst, target):\n",
    "  res = []\n",
    "  count = 0\n",
    "  while count < K:\n",
    "    res.append(min(lst, key=lambda x: abs(x-target)))\n",
    "    lst.remove(min(lst, key=lambda x: abs(x-target)))\n",
    "    count += 1\n",
    "  return res"
   ]
  },
  {
   "cell_type": "code",
   "execution_count": 9,
   "id": "63ba6afc-46fd-4672-b239-2b38ff276c6d",
   "metadata": {},
   "outputs": [],
   "source": [
    "l_2 = nearest(l_1, l_1[t-1])"
   ]
  },
  {
   "cell_type": "code",
   "execution_count": 10,
   "id": "81058b0c-afba-43a2-a222-c386ecd6896e",
   "metadata": {},
   "outputs": [],
   "source": [
    "min_n = reduce((lambda x, y: min(x,y)), l_2)\n",
    "max_n = reduce((lambda x, y: max(x,y)), l_2)"
   ]
  },
  {
   "cell_type": "code",
   "execution_count": 11,
   "id": "2034b5dc-d8c9-4a2b-aeb1-5c7534d816aa",
   "metadata": {},
   "outputs": [
    {
     "data": {
      "text/plain": [
       "0"
      ]
     },
     "execution_count": 11,
     "metadata": {},
     "output_type": "execute_result"
    }
   ],
   "source": [
    "result = max_n - min_n\n",
    "result"
   ]
  }
 ],
 "metadata": {
  "kernelspec": {
   "display_name": "Python 3 (ipykernel)",
   "language": "python",
   "name": "python3"
  },
  "language_info": {
   "codemirror_mode": {
    "name": "ipython",
    "version": 3
   },
   "file_extension": ".py",
   "mimetype": "text/x-python",
   "name": "python",
   "nbconvert_exporter": "python",
   "pygments_lexer": "ipython3",
   "version": "3.11.7"
  }
 },
 "nbformat": 4,
 "nbformat_minor": 5
}
